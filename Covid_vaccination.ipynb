{
  "nbformat": 4,
  "nbformat_minor": 0,
  "metadata": {
    "colab": {
      "name": "Covid-vaccination.ipynb",
      "provenance": [],
      "collapsed_sections": [],
      "authorship_tag": "ABX9TyN4rPHPpeqwouHRfX1X+xs4",
      "include_colab_link": true
    },
    "kernelspec": {
      "name": "python3",
      "display_name": "Python 3"
    }
  },
  "cells": [
    {
      "cell_type": "markdown",
      "metadata": {
        "id": "view-in-github",
        "colab_type": "text"
      },
      "source": [
        "<a href=\"https://colab.research.google.com/github/Pravallika-Myneni/Covid-vaccination-Progress/blob/main/Covid_vaccination.ipynb\" target=\"_parent\"><img src=\"https://colab.research.google.com/assets/colab-badge.svg\" alt=\"Open In Colab\"/></a>"
      ]
    },
    {
      "cell_type": "markdown",
      "metadata": {
        "id": "X0fHPk1r9_TH"
      },
      "source": [
        "#Covid world vaccination Progress \r\n",
        "\r\n",
        "**Goal :** \r\n",
        "Track COVID-19 vaccination in the World, answer instantly to your questions:\r\n",
        "\r\n",
        "Which country is using what vaccine?\r\n",
        "\r\n",
        "In which country the vaccination programme is more advanced?\r\n",
        "\r\n",
        "Where are vaccinated more people per day? But in terms of percent from entire population ?"
      ]
    },
    {
      "cell_type": "markdown",
      "metadata": {
        "id": "MXlUKhSc-6QE"
      },
      "source": [
        "## Importing necesaary libraries and data"
      ]
    },
    {
      "cell_type": "code",
      "metadata": {
        "id": "DONpDTNs96rU"
      },
      "source": [
        "import pandas as pd\r\n",
        "import numpy as np\r\n",
        "import matplotlib.pyplot as plt"
      ],
      "execution_count": null,
      "outputs": []
    },
    {
      "cell_type": "code",
      "metadata": {
        "id": "PKATB_OsSRsr"
      },
      "source": [
        "import plotly"
      ],
      "execution_count": null,
      "outputs": []
    },
    {
      "cell_type": "code",
      "metadata": {
        "id": "kwe5Lfzu_L2w"
      },
      "source": [
        "vaccine_data = pd.read_csv(\"https://raw.githubusercontent.com/Pravallika-Myneni/Covid-vaccination-Progress/main/country_vaccinations.csv\")"
      ],
      "execution_count": null,
      "outputs": []
    },
    {
      "cell_type": "markdown",
      "metadata": {
        "id": "LjawNwysMPPv"
      },
      "source": [
        "The data contains the following information:\r\n",
        "\r\n",
        "**Country** - this is the country for which the vaccination information is provided\r\n",
        "\r\n",
        "**Country ISO Code** - ISO code for the country\r\n",
        "\r\n",
        "**Date**- date for the data entry; for some of the dates we have only the daily vaccinations, for others, only the (cumulative) total\r\n",
        "\r\n",
        "**Total number of vaccinations** - this is the absolute number of total immunizations in the country\r\n",
        "\r\n",
        "**Total number of people vaccinated** - a person, depending on the immunization scheme, will receive one or more (typically 2) vaccines; at a certain moment, the number of vaccination might be larger than the number of people\r\n",
        "\r\n",
        "**Total number of people fully vaccinated** - this is the number of people that received the entire set of immunization according to the immunization scheme (typically 2); at a certain moment in time, there might be a certain number of people that received one vaccine and another number (smaller) of people that received all vaccines in the scheme;\r\n",
        "\r\n",
        "**Daily vaccinations** **(raw)** - for a certain data entry, the number of vaccination for that date/country\r\n",
        "\r\n",
        "**Daily vaccinations** - for a certain data entry, the number of vaccination for that date/country;\r\n",
        "Total vaccinations per hundred - ratio (in percent) between vaccination number and total population up to the date in the country;\r\n",
        "\r\n",
        "**Total number of people vaccinated per hundred** - ratio (in percent) between population immunized and total population up to the date in the country;\r\n",
        "Total number of people fully vaccinated per hundred - ratio (in percent) between population fully immunized and total population up to the date in the country;\r\n",
        "\r\n",
        "**Number of vaccinations per day** - number of daily vaccination for that day and country;\r\n",
        "\r\n",
        "**Daily vaccinations per million** - ratio (in ppm) between vaccination number and total population for the current date in the country;\r\n",
        "**Vaccines used in the country **- total number of vaccines used in the country (up to date);\r\n",
        "Source name - source of the information (national authority, international organization, local organization etc.);\r\n",
        "Source website - website of the source of information;"
      ]
    },
    {
      "cell_type": "markdown",
      "metadata": {
        "id": "gzC0ZdZa_abj"
      },
      "source": [
        "## Initial Data Exploration"
      ]
    },
    {
      "cell_type": "code",
      "metadata": {
        "colab": {
          "base_uri": "https://localhost:8080/"
        },
        "id": "S-LRywhCCoso",
        "outputId": "9348dcea-5655-42ed-bbd7-389e4abe06b4"
      },
      "source": [
        "vaccine_data.columns"
      ],
      "execution_count": null,
      "outputs": [
        {
          "output_type": "execute_result",
          "data": {
            "text/plain": [
              "Index(['country', 'iso_code', 'date', 'total_vaccinations',\n",
              "       'people_vaccinated', 'people_fully_vaccinated',\n",
              "       'daily_vaccinations_raw', 'daily_vaccinations',\n",
              "       'total_vaccinations_per_hundred', 'people_vaccinated_per_hundred',\n",
              "       'people_fully_vaccinated_per_hundred', 'daily_vaccinations_per_million',\n",
              "       'vaccines', 'source_name', 'source_website'],\n",
              "      dtype='object')"
            ]
          },
          "metadata": {
            "tags": []
          },
          "execution_count": 4
        }
      ]
    },
    {
      "cell_type": "markdown",
      "metadata": {
        "id": "xPV9eENutc1x"
      },
      "source": [
        "What to find? Variable - type - segment- Expectation- Conclusion- Comments"
      ]
    },
    {
      "cell_type": "code",
      "metadata": {
        "colab": {
          "base_uri": "https://localhost:8080/",
          "height": 302
        },
        "id": "U8VCQqQo_ga6",
        "outputId": "5bdb893a-7047-4069-b4c7-ec385a87b155"
      },
      "source": [
        "vaccine_data.head()"
      ],
      "execution_count": null,
      "outputs": [
        {
          "output_type": "execute_result",
          "data": {
            "text/html": [
              "<div>\n",
              "<style scoped>\n",
              "    .dataframe tbody tr th:only-of-type {\n",
              "        vertical-align: middle;\n",
              "    }\n",
              "\n",
              "    .dataframe tbody tr th {\n",
              "        vertical-align: top;\n",
              "    }\n",
              "\n",
              "    .dataframe thead th {\n",
              "        text-align: right;\n",
              "    }\n",
              "</style>\n",
              "<table border=\"1\" class=\"dataframe\">\n",
              "  <thead>\n",
              "    <tr style=\"text-align: right;\">\n",
              "      <th></th>\n",
              "      <th>country</th>\n",
              "      <th>iso_code</th>\n",
              "      <th>date</th>\n",
              "      <th>total_vaccinations</th>\n",
              "      <th>people_vaccinated</th>\n",
              "      <th>people_fully_vaccinated</th>\n",
              "      <th>daily_vaccinations_raw</th>\n",
              "      <th>daily_vaccinations</th>\n",
              "      <th>total_vaccinations_per_hundred</th>\n",
              "      <th>people_vaccinated_per_hundred</th>\n",
              "      <th>people_fully_vaccinated_per_hundred</th>\n",
              "      <th>daily_vaccinations_per_million</th>\n",
              "      <th>vaccines</th>\n",
              "      <th>source_name</th>\n",
              "      <th>source_website</th>\n",
              "    </tr>\n",
              "  </thead>\n",
              "  <tbody>\n",
              "    <tr>\n",
              "      <th>0</th>\n",
              "      <td>Albania</td>\n",
              "      <td>ALB</td>\n",
              "      <td>2021-01-10</td>\n",
              "      <td>0.0</td>\n",
              "      <td>0.0</td>\n",
              "      <td>NaN</td>\n",
              "      <td>NaN</td>\n",
              "      <td>NaN</td>\n",
              "      <td>0.00</td>\n",
              "      <td>0.00</td>\n",
              "      <td>NaN</td>\n",
              "      <td>NaN</td>\n",
              "      <td>Pfizer/BioNTech</td>\n",
              "      <td>Ministry of Health</td>\n",
              "      <td>https://shendetesia.gov.al/vaksinimi-anticovid...</td>\n",
              "    </tr>\n",
              "    <tr>\n",
              "      <th>1</th>\n",
              "      <td>Albania</td>\n",
              "      <td>ALB</td>\n",
              "      <td>2021-01-11</td>\n",
              "      <td>NaN</td>\n",
              "      <td>NaN</td>\n",
              "      <td>NaN</td>\n",
              "      <td>NaN</td>\n",
              "      <td>64.0</td>\n",
              "      <td>NaN</td>\n",
              "      <td>NaN</td>\n",
              "      <td>NaN</td>\n",
              "      <td>22.0</td>\n",
              "      <td>Pfizer/BioNTech</td>\n",
              "      <td>Ministry of Health</td>\n",
              "      <td>https://shendetesia.gov.al/vaksinimi-anticovid...</td>\n",
              "    </tr>\n",
              "    <tr>\n",
              "      <th>2</th>\n",
              "      <td>Albania</td>\n",
              "      <td>ALB</td>\n",
              "      <td>2021-01-12</td>\n",
              "      <td>128.0</td>\n",
              "      <td>128.0</td>\n",
              "      <td>NaN</td>\n",
              "      <td>NaN</td>\n",
              "      <td>64.0</td>\n",
              "      <td>0.00</td>\n",
              "      <td>0.00</td>\n",
              "      <td>NaN</td>\n",
              "      <td>22.0</td>\n",
              "      <td>Pfizer/BioNTech</td>\n",
              "      <td>Ministry of Health</td>\n",
              "      <td>https://shendetesia.gov.al/vaksinimi-anticovid...</td>\n",
              "    </tr>\n",
              "    <tr>\n",
              "      <th>3</th>\n",
              "      <td>Albania</td>\n",
              "      <td>ALB</td>\n",
              "      <td>2021-01-13</td>\n",
              "      <td>188.0</td>\n",
              "      <td>188.0</td>\n",
              "      <td>NaN</td>\n",
              "      <td>60.0</td>\n",
              "      <td>63.0</td>\n",
              "      <td>0.01</td>\n",
              "      <td>0.01</td>\n",
              "      <td>NaN</td>\n",
              "      <td>22.0</td>\n",
              "      <td>Pfizer/BioNTech</td>\n",
              "      <td>Ministry of Health</td>\n",
              "      <td>https://shendetesia.gov.al/vaksinimi-anticovid...</td>\n",
              "    </tr>\n",
              "    <tr>\n",
              "      <th>4</th>\n",
              "      <td>Albania</td>\n",
              "      <td>ALB</td>\n",
              "      <td>2021-01-14</td>\n",
              "      <td>266.0</td>\n",
              "      <td>266.0</td>\n",
              "      <td>NaN</td>\n",
              "      <td>78.0</td>\n",
              "      <td>66.0</td>\n",
              "      <td>0.01</td>\n",
              "      <td>0.01</td>\n",
              "      <td>NaN</td>\n",
              "      <td>23.0</td>\n",
              "      <td>Pfizer/BioNTech</td>\n",
              "      <td>Ministry of Health</td>\n",
              "      <td>https://shendetesia.gov.al/vaksinimi-anticovid...</td>\n",
              "    </tr>\n",
              "  </tbody>\n",
              "</table>\n",
              "</div>"
            ],
            "text/plain": [
              "   country  ...                                     source_website\n",
              "0  Albania  ...  https://shendetesia.gov.al/vaksinimi-anticovid...\n",
              "1  Albania  ...  https://shendetesia.gov.al/vaksinimi-anticovid...\n",
              "2  Albania  ...  https://shendetesia.gov.al/vaksinimi-anticovid...\n",
              "3  Albania  ...  https://shendetesia.gov.al/vaksinimi-anticovid...\n",
              "4  Albania  ...  https://shendetesia.gov.al/vaksinimi-anticovid...\n",
              "\n",
              "[5 rows x 15 columns]"
            ]
          },
          "metadata": {
            "tags": []
          },
          "execution_count": 5
        }
      ]
    },
    {
      "cell_type": "code",
      "metadata": {
        "colab": {
          "base_uri": "https://localhost:8080/"
        },
        "id": "eA34HaU2AOwu",
        "outputId": "421ce743-39b0-4b46-ab8f-a41a8b66e478"
      },
      "source": [
        "vaccine_data.shape"
      ],
      "execution_count": null,
      "outputs": [
        {
          "output_type": "execute_result",
          "data": {
            "text/plain": [
              "(2916, 15)"
            ]
          },
          "metadata": {
            "tags": []
          },
          "execution_count": 6
        }
      ]
    },
    {
      "cell_type": "markdown",
      "metadata": {
        "id": "vaQkaoIEuNgH"
      },
      "source": [
        "Exploring Country column"
      ]
    },
    {
      "cell_type": "code",
      "metadata": {
        "colab": {
          "base_uri": "https://localhost:8080/"
        },
        "id": "8S252MFFuIfY",
        "outputId": "7e883e27-ef2f-49ac-f4ab-602e08074c6f"
      },
      "source": [
        "len(set(vaccine_data.country))"
      ],
      "execution_count": null,
      "outputs": [
        {
          "output_type": "execute_result",
          "data": {
            "text/plain": [
              "85"
            ]
          },
          "metadata": {
            "tags": []
          },
          "execution_count": 7
        }
      ]
    },
    {
      "cell_type": "markdown",
      "metadata": {
        "id": "bPpe0-4lud_K"
      },
      "source": [
        "There totally 85 countries in the data. We can assume that each country data is collected over a period of time.\r\n",
        "\r\n",
        "To confirm let us now explore date column"
      ]
    },
    {
      "cell_type": "code",
      "metadata": {
        "colab": {
          "base_uri": "https://localhost:8080/"
        },
        "id": "lxyTJHOhu2Jn",
        "outputId": "2fd2fbf0-07cb-46f8-83b3-b6c2c2419fff"
      },
      "source": [
        "len(set(vaccine_data.date))"
      ],
      "execution_count": null,
      "outputs": [
        {
          "output_type": "execute_result",
          "data": {
            "text/plain": [
              "61"
            ]
          },
          "metadata": {
            "tags": []
          },
          "execution_count": 8
        }
      ]
    },
    {
      "cell_type": "code",
      "metadata": {
        "id": "Yas7jbt1xev5"
      },
      "source": [
        "vaccine_data['date'] = pd.to_datetime(vaccine_data['date'])"
      ],
      "execution_count": null,
      "outputs": []
    },
    {
      "cell_type": "markdown",
      "metadata": {
        "id": "v6GQS1WNx3za"
      },
      "source": [
        "By manually observing we can conclude that the date is collected from 13-12-2020 to 11-02-2021"
      ]
    },
    {
      "cell_type": "code",
      "metadata": {
        "colab": {
          "base_uri": "https://localhost:8080/"
        },
        "id": "-D06EqR7xOYk",
        "outputId": "88048f37-3afa-48c1-a117-1bf2a53c3e59"
      },
      "source": [
        "print(sorted(list(set(vaccine_data.date))))"
      ],
      "execution_count": null,
      "outputs": [
        {
          "output_type": "stream",
          "text": [
            "[Timestamp('2020-12-13 00:00:00'), Timestamp('2020-12-14 00:00:00'), Timestamp('2020-12-15 00:00:00'), Timestamp('2020-12-16 00:00:00'), Timestamp('2020-12-17 00:00:00'), Timestamp('2020-12-18 00:00:00'), Timestamp('2020-12-19 00:00:00'), Timestamp('2020-12-20 00:00:00'), Timestamp('2020-12-21 00:00:00'), Timestamp('2020-12-22 00:00:00'), Timestamp('2020-12-23 00:00:00'), Timestamp('2020-12-24 00:00:00'), Timestamp('2020-12-25 00:00:00'), Timestamp('2020-12-26 00:00:00'), Timestamp('2020-12-27 00:00:00'), Timestamp('2020-12-28 00:00:00'), Timestamp('2020-12-29 00:00:00'), Timestamp('2020-12-30 00:00:00'), Timestamp('2020-12-31 00:00:00'), Timestamp('2021-01-01 00:00:00'), Timestamp('2021-01-02 00:00:00'), Timestamp('2021-01-03 00:00:00'), Timestamp('2021-01-04 00:00:00'), Timestamp('2021-01-05 00:00:00'), Timestamp('2021-01-06 00:00:00'), Timestamp('2021-01-07 00:00:00'), Timestamp('2021-01-08 00:00:00'), Timestamp('2021-01-09 00:00:00'), Timestamp('2021-01-10 00:00:00'), Timestamp('2021-01-11 00:00:00'), Timestamp('2021-01-12 00:00:00'), Timestamp('2021-01-13 00:00:00'), Timestamp('2021-01-14 00:00:00'), Timestamp('2021-01-15 00:00:00'), Timestamp('2021-01-16 00:00:00'), Timestamp('2021-01-17 00:00:00'), Timestamp('2021-01-18 00:00:00'), Timestamp('2021-01-19 00:00:00'), Timestamp('2021-01-20 00:00:00'), Timestamp('2021-01-21 00:00:00'), Timestamp('2021-01-22 00:00:00'), Timestamp('2021-01-23 00:00:00'), Timestamp('2021-01-24 00:00:00'), Timestamp('2021-01-25 00:00:00'), Timestamp('2021-01-26 00:00:00'), Timestamp('2021-01-27 00:00:00'), Timestamp('2021-01-28 00:00:00'), Timestamp('2021-01-29 00:00:00'), Timestamp('2021-01-30 00:00:00'), Timestamp('2021-01-31 00:00:00'), Timestamp('2021-02-01 00:00:00'), Timestamp('2021-02-02 00:00:00'), Timestamp('2021-02-03 00:00:00'), Timestamp('2021-02-04 00:00:00'), Timestamp('2021-02-05 00:00:00'), Timestamp('2021-02-06 00:00:00'), Timestamp('2021-02-07 00:00:00'), Timestamp('2021-02-08 00:00:00'), Timestamp('2021-02-09 00:00:00'), Timestamp('2021-02-10 00:00:00'), Timestamp('2021-02-11 00:00:00')]\n"
          ],
          "name": "stdout"
        }
      ]
    },
    {
      "cell_type": "markdown",
      "metadata": {
        "id": "8OvTMPNOy3Eq"
      },
      "source": [
        "let us drop the columns regarding the source for now"
      ]
    },
    {
      "cell_type": "code",
      "metadata": {
        "id": "QKuoNHc2yQ2d"
      },
      "source": [
        "vaccine_data_s1 = vaccine_data.drop(['source_name','source_website'],axis=1) "
      ],
      "execution_count": null,
      "outputs": []
    },
    {
      "cell_type": "markdown",
      "metadata": {
        "id": "wKaUdhd_y-1u"
      },
      "source": [
        "Exploring the rest of columns"
      ]
    },
    {
      "cell_type": "code",
      "metadata": {
        "colab": {
          "base_uri": "https://localhost:8080/"
        },
        "id": "MF4z4qqtzGwB",
        "outputId": "258b0c69-3453-46e5-b7c5-94f05e785941"
      },
      "source": [
        "set(vaccine_data_s1.vaccines)"
      ],
      "execution_count": null,
      "outputs": [
        {
          "output_type": "execute_result",
          "data": {
            "text/plain": [
              "{'Covaxin, Oxford/AstraZeneca',\n",
              " 'Moderna, Oxford/AstraZeneca, Pfizer/BioNTech',\n",
              " 'Moderna, Pfizer/BioNTech',\n",
              " 'Oxford/AstraZeneca',\n",
              " 'Oxford/AstraZeneca, Pfizer/BioNTech',\n",
              " 'Oxford/AstraZeneca, Pfizer/BioNTech, Sinopharm/Beijing, Sinopharm/Wuhan, Sputnik V',\n",
              " 'Oxford/AstraZeneca, Sinopharm/Beijing',\n",
              " 'Oxford/AstraZeneca, Sinovac',\n",
              " 'Pfizer/BioNTech',\n",
              " 'Pfizer/BioNTech, Sinopharm/Beijing',\n",
              " 'Pfizer/BioNTech, Sinopharm/Beijing, Sputnik V',\n",
              " 'Pfizer/BioNTech, Sinovac',\n",
              " 'Sinopharm/Beijing',\n",
              " 'Sinopharm/Beijing, Sinopharm/Wuhan, Sinovac',\n",
              " 'Sinovac',\n",
              " 'Sputnik V'}"
            ]
          },
          "metadata": {
            "tags": []
          },
          "execution_count": 12
        }
      ]
    },
    {
      "cell_type": "markdown",
      "metadata": {
        "id": "32mRsrPFzT_k"
      },
      "source": [
        "If we observe the vaccines column there are more than one values in each cell\r\n",
        "## **Let us figure it out in next steps how to do that**"
      ]
    },
    {
      "cell_type": "code",
      "metadata": {
        "colab": {
          "base_uri": "https://localhost:8080/"
        },
        "id": "f19a2dftzlOR",
        "outputId": "7c82ae1b-d449-442d-9e98-2a635db550e2"
      },
      "source": [
        "vaccine_data_s1.info()"
      ],
      "execution_count": null,
      "outputs": [
        {
          "output_type": "stream",
          "text": [
            "<class 'pandas.core.frame.DataFrame'>\n",
            "RangeIndex: 2916 entries, 0 to 2915\n",
            "Data columns (total 13 columns):\n",
            " #   Column                               Non-Null Count  Dtype         \n",
            "---  ------                               --------------  -----         \n",
            " 0   country                              2916 non-null   object        \n",
            " 1   iso_code                             2676 non-null   object        \n",
            " 2   date                                 2916 non-null   datetime64[ns]\n",
            " 3   total_vaccinations                   1868 non-null   float64       \n",
            " 4   people_vaccinated                    1530 non-null   float64       \n",
            " 5   people_fully_vaccinated              938 non-null    float64       \n",
            " 6   daily_vaccinations_raw               1539 non-null   float64       \n",
            " 7   daily_vaccinations                   2801 non-null   float64       \n",
            " 8   total_vaccinations_per_hundred       1868 non-null   float64       \n",
            " 9   people_vaccinated_per_hundred        1530 non-null   float64       \n",
            " 10  people_fully_vaccinated_per_hundred  938 non-null    float64       \n",
            " 11  daily_vaccinations_per_million       2801 non-null   float64       \n",
            " 12  vaccines                             2916 non-null   object        \n",
            "dtypes: datetime64[ns](1), float64(9), object(3)\n",
            "memory usage: 296.3+ KB\n"
          ],
          "name": "stdout"
        }
      ]
    },
    {
      "cell_type": "markdown",
      "metadata": {
        "id": "AB_FhGi9cEIs"
      },
      "source": [
        "Dropping iso_code column"
      ]
    },
    {
      "cell_type": "code",
      "metadata": {
        "id": "errJ5WnScMXI"
      },
      "source": [
        "vaccine_data_s1 = vaccine_data_s1.drop(['iso_code'],axis=1) "
      ],
      "execution_count": null,
      "outputs": []
    },
    {
      "cell_type": "markdown",
      "metadata": {
        "id": "CiGHr23XzuPX"
      },
      "source": [
        "As date column in shown as type object convert it into date type"
      ]
    },
    {
      "cell_type": "code",
      "metadata": {
        "colab": {
          "base_uri": "https://localhost:8080/",
          "height": 302
        },
        "id": "TauB3fxR0-oq",
        "outputId": "35380512-3654-4dfd-b782-25b74e9f5d29"
      },
      "source": [
        "vaccine_data_s1.head()"
      ],
      "execution_count": null,
      "outputs": [
        {
          "output_type": "execute_result",
          "data": {
            "text/html": [
              "<div>\n",
              "<style scoped>\n",
              "    .dataframe tbody tr th:only-of-type {\n",
              "        vertical-align: middle;\n",
              "    }\n",
              "\n",
              "    .dataframe tbody tr th {\n",
              "        vertical-align: top;\n",
              "    }\n",
              "\n",
              "    .dataframe thead th {\n",
              "        text-align: right;\n",
              "    }\n",
              "</style>\n",
              "<table border=\"1\" class=\"dataframe\">\n",
              "  <thead>\n",
              "    <tr style=\"text-align: right;\">\n",
              "      <th></th>\n",
              "      <th>country</th>\n",
              "      <th>date</th>\n",
              "      <th>total_vaccinations</th>\n",
              "      <th>people_vaccinated</th>\n",
              "      <th>people_fully_vaccinated</th>\n",
              "      <th>daily_vaccinations_raw</th>\n",
              "      <th>daily_vaccinations</th>\n",
              "      <th>total_vaccinations_per_hundred</th>\n",
              "      <th>people_vaccinated_per_hundred</th>\n",
              "      <th>people_fully_vaccinated_per_hundred</th>\n",
              "      <th>daily_vaccinations_per_million</th>\n",
              "      <th>vaccines</th>\n",
              "    </tr>\n",
              "  </thead>\n",
              "  <tbody>\n",
              "    <tr>\n",
              "      <th>0</th>\n",
              "      <td>Albania</td>\n",
              "      <td>2021-01-10</td>\n",
              "      <td>0.0</td>\n",
              "      <td>0.0</td>\n",
              "      <td>NaN</td>\n",
              "      <td>NaN</td>\n",
              "      <td>NaN</td>\n",
              "      <td>0.00</td>\n",
              "      <td>0.00</td>\n",
              "      <td>NaN</td>\n",
              "      <td>NaN</td>\n",
              "      <td>Pfizer/BioNTech</td>\n",
              "    </tr>\n",
              "    <tr>\n",
              "      <th>1</th>\n",
              "      <td>Albania</td>\n",
              "      <td>2021-01-11</td>\n",
              "      <td>NaN</td>\n",
              "      <td>NaN</td>\n",
              "      <td>NaN</td>\n",
              "      <td>NaN</td>\n",
              "      <td>64.0</td>\n",
              "      <td>NaN</td>\n",
              "      <td>NaN</td>\n",
              "      <td>NaN</td>\n",
              "      <td>22.0</td>\n",
              "      <td>Pfizer/BioNTech</td>\n",
              "    </tr>\n",
              "    <tr>\n",
              "      <th>2</th>\n",
              "      <td>Albania</td>\n",
              "      <td>2021-01-12</td>\n",
              "      <td>128.0</td>\n",
              "      <td>128.0</td>\n",
              "      <td>NaN</td>\n",
              "      <td>NaN</td>\n",
              "      <td>64.0</td>\n",
              "      <td>0.00</td>\n",
              "      <td>0.00</td>\n",
              "      <td>NaN</td>\n",
              "      <td>22.0</td>\n",
              "      <td>Pfizer/BioNTech</td>\n",
              "    </tr>\n",
              "    <tr>\n",
              "      <th>3</th>\n",
              "      <td>Albania</td>\n",
              "      <td>2021-01-13</td>\n",
              "      <td>188.0</td>\n",
              "      <td>188.0</td>\n",
              "      <td>NaN</td>\n",
              "      <td>60.0</td>\n",
              "      <td>63.0</td>\n",
              "      <td>0.01</td>\n",
              "      <td>0.01</td>\n",
              "      <td>NaN</td>\n",
              "      <td>22.0</td>\n",
              "      <td>Pfizer/BioNTech</td>\n",
              "    </tr>\n",
              "    <tr>\n",
              "      <th>4</th>\n",
              "      <td>Albania</td>\n",
              "      <td>2021-01-14</td>\n",
              "      <td>266.0</td>\n",
              "      <td>266.0</td>\n",
              "      <td>NaN</td>\n",
              "      <td>78.0</td>\n",
              "      <td>66.0</td>\n",
              "      <td>0.01</td>\n",
              "      <td>0.01</td>\n",
              "      <td>NaN</td>\n",
              "      <td>23.0</td>\n",
              "      <td>Pfizer/BioNTech</td>\n",
              "    </tr>\n",
              "  </tbody>\n",
              "</table>\n",
              "</div>"
            ],
            "text/plain": [
              "   country       date  ...  daily_vaccinations_per_million         vaccines\n",
              "0  Albania 2021-01-10  ...                             NaN  Pfizer/BioNTech\n",
              "1  Albania 2021-01-11  ...                            22.0  Pfizer/BioNTech\n",
              "2  Albania 2021-01-12  ...                            22.0  Pfizer/BioNTech\n",
              "3  Albania 2021-01-13  ...                            22.0  Pfizer/BioNTech\n",
              "4  Albania 2021-01-14  ...                            23.0  Pfizer/BioNTech\n",
              "\n",
              "[5 rows x 12 columns]"
            ]
          },
          "metadata": {
            "tags": []
          },
          "execution_count": 15
        }
      ]
    },
    {
      "cell_type": "markdown",
      "metadata": {
        "id": "kwdsIzi81qZh"
      },
      "source": [
        "## Descriptive statistics of columns"
      ]
    },
    {
      "cell_type": "code",
      "metadata": {
        "colab": {
          "base_uri": "https://localhost:8080/",
          "height": 286
        },
        "id": "Pmbxge2-12Uk",
        "outputId": "5be87f32-2d59-49ad-b9c3-68fad8d2c0f6"
      },
      "source": [
        "vaccine_data_s1.describe()"
      ],
      "execution_count": null,
      "outputs": [
        {
          "output_type": "execute_result",
          "data": {
            "text/html": [
              "<div>\n",
              "<style scoped>\n",
              "    .dataframe tbody tr th:only-of-type {\n",
              "        vertical-align: middle;\n",
              "    }\n",
              "\n",
              "    .dataframe tbody tr th {\n",
              "        vertical-align: top;\n",
              "    }\n",
              "\n",
              "    .dataframe thead th {\n",
              "        text-align: right;\n",
              "    }\n",
              "</style>\n",
              "<table border=\"1\" class=\"dataframe\">\n",
              "  <thead>\n",
              "    <tr style=\"text-align: right;\">\n",
              "      <th></th>\n",
              "      <th>total_vaccinations</th>\n",
              "      <th>people_vaccinated</th>\n",
              "      <th>people_fully_vaccinated</th>\n",
              "      <th>daily_vaccinations_raw</th>\n",
              "      <th>daily_vaccinations</th>\n",
              "      <th>total_vaccinations_per_hundred</th>\n",
              "      <th>people_vaccinated_per_hundred</th>\n",
              "      <th>people_fully_vaccinated_per_hundred</th>\n",
              "      <th>daily_vaccinations_per_million</th>\n",
              "    </tr>\n",
              "  </thead>\n",
              "  <tbody>\n",
              "    <tr>\n",
              "      <th>count</th>\n",
              "      <td>1.868000e+03</td>\n",
              "      <td>1.530000e+03</td>\n",
              "      <td>9.380000e+02</td>\n",
              "      <td>1.539000e+03</td>\n",
              "      <td>2.801000e+03</td>\n",
              "      <td>1868.000000</td>\n",
              "      <td>1530.000000</td>\n",
              "      <td>938.000000</td>\n",
              "      <td>2801.000000</td>\n",
              "    </tr>\n",
              "    <tr>\n",
              "      <th>mean</th>\n",
              "      <td>1.252920e+06</td>\n",
              "      <td>1.058740e+06</td>\n",
              "      <td>2.965334e+05</td>\n",
              "      <td>6.951993e+04</td>\n",
              "      <td>5.555575e+04</td>\n",
              "      <td>4.967505</td>\n",
              "      <td>4.449157</td>\n",
              "      <td>1.281109</td>\n",
              "      <td>2024.456266</td>\n",
              "    </tr>\n",
              "    <tr>\n",
              "      <th>std</th>\n",
              "      <td>4.149778e+06</td>\n",
              "      <td>3.461625e+06</td>\n",
              "      <td>1.042177e+06</td>\n",
              "      <td>1.930803e+05</td>\n",
              "      <td>1.720739e+05</td>\n",
              "      <td>9.487874</td>\n",
              "      <td>7.545322</td>\n",
              "      <td>3.488210</td>\n",
              "      <td>3562.163229</td>\n",
              "    </tr>\n",
              "    <tr>\n",
              "      <th>min</th>\n",
              "      <td>0.000000e+00</td>\n",
              "      <td>0.000000e+00</td>\n",
              "      <td>1.000000e+00</td>\n",
              "      <td>0.000000e+00</td>\n",
              "      <td>1.000000e+00</td>\n",
              "      <td>0.000000</td>\n",
              "      <td>0.000000</td>\n",
              "      <td>0.000000</td>\n",
              "      <td>0.000000</td>\n",
              "    </tr>\n",
              "    <tr>\n",
              "      <th>25%</th>\n",
              "      <td>2.549250e+04</td>\n",
              "      <td>2.477300e+04</td>\n",
              "      <td>5.541250e+03</td>\n",
              "      <td>1.997500e+03</td>\n",
              "      <td>1.205000e+03</td>\n",
              "      <td>0.480000</td>\n",
              "      <td>0.500000</td>\n",
              "      <td>0.070000</td>\n",
              "      <td>342.000000</td>\n",
              "    </tr>\n",
              "    <tr>\n",
              "      <th>50%</th>\n",
              "      <td>1.538300e+05</td>\n",
              "      <td>1.430075e+05</td>\n",
              "      <td>2.383300e+04</td>\n",
              "      <td>1.056600e+04</td>\n",
              "      <td>6.149000e+03</td>\n",
              "      <td>1.885000</td>\n",
              "      <td>2.020000</td>\n",
              "      <td>0.450000</td>\n",
              "      <td>925.000000</td>\n",
              "    </tr>\n",
              "    <tr>\n",
              "      <th>75%</th>\n",
              "      <td>6.532502e+05</td>\n",
              "      <td>5.607845e+05</td>\n",
              "      <td>1.200608e+05</td>\n",
              "      <td>5.461300e+04</td>\n",
              "      <td>2.839500e+04</td>\n",
              "      <td>4.270000</td>\n",
              "      <td>3.505000</td>\n",
              "      <td>1.027500</td>\n",
              "      <td>1699.000000</td>\n",
              "    </tr>\n",
              "    <tr>\n",
              "      <th>max</th>\n",
              "      <td>4.639027e+07</td>\n",
              "      <td>3.472396e+07</td>\n",
              "      <td>1.118878e+07</td>\n",
              "      <td>2.218752e+06</td>\n",
              "      <td>1.916190e+06</td>\n",
              "      <td>71.190000</td>\n",
              "      <td>45.300000</td>\n",
              "      <td>27.690000</td>\n",
              "      <td>30869.000000</td>\n",
              "    </tr>\n",
              "  </tbody>\n",
              "</table>\n",
              "</div>"
            ],
            "text/plain": [
              "       total_vaccinations  ...  daily_vaccinations_per_million\n",
              "count        1.868000e+03  ...                     2801.000000\n",
              "mean         1.252920e+06  ...                     2024.456266\n",
              "std          4.149778e+06  ...                     3562.163229\n",
              "min          0.000000e+00  ...                        0.000000\n",
              "25%          2.549250e+04  ...                      342.000000\n",
              "50%          1.538300e+05  ...                      925.000000\n",
              "75%          6.532502e+05  ...                     1699.000000\n",
              "max          4.639027e+07  ...                    30869.000000\n",
              "\n",
              "[8 rows x 9 columns]"
            ]
          },
          "metadata": {
            "tags": []
          },
          "execution_count": 16
        }
      ]
    },
    {
      "cell_type": "markdown",
      "metadata": {
        "id": "5oiUOwIQD5bo"
      },
      "source": [
        "Exploring other columns one by one"
      ]
    },
    {
      "cell_type": "markdown",
      "metadata": {
        "id": "lROrE9STcohW"
      },
      "source": [
        "## country"
      ]
    },
    {
      "cell_type": "code",
      "metadata": {
        "colab": {
          "base_uri": "https://localhost:8080/"
        },
        "id": "8LwxCtfqcr6D",
        "outputId": "bf844829-a805-474c-9770-b894dc60616e"
      },
      "source": [
        "len(set(vaccine_data_s1.country))\r\n",
        "\r\n",
        "#consider countries with enough data only"
      ],
      "execution_count": null,
      "outputs": [
        {
          "output_type": "execute_result",
          "data": {
            "text/plain": [
              "85"
            ]
          },
          "metadata": {
            "tags": []
          },
          "execution_count": 17
        }
      ]
    },
    {
      "cell_type": "markdown",
      "metadata": {
        "id": "jmEvMU-ZB2tm"
      },
      "source": [
        "Grouping rows by country"
      ]
    },
    {
      "cell_type": "code",
      "metadata": {
        "id": "Q7CuMmYZc8PO"
      },
      "source": [
        "vaccine_data_grouped = vaccine_data_s1.groupby('country').count()\r\n",
        "vaccine_data_grouped = vaccine_data_grouped.sort_values(by='date',ascending=False)\r\n",
        "vaccine_data_grouped = vaccine_data_grouped.reset_index()\r\n",
        "#set(vaccine_data_grouped.date)\r\n"
      ],
      "execution_count": 41,
      "outputs": []
    },
    {
      "cell_type": "markdown",
      "metadata": {
        "id": "4mfemrPNbKSF"
      },
      "source": [
        "A lot of values seem to be missing. \r\n",
        "After exploring the data manually, it appears that there are many countries with incomplete data.\r\n",
        "Let us focus on the countries that have complete data. \r\n",
        "To do this, we drop the rows with incomplete data."
      ]
    },
    {
      "cell_type": "code",
      "metadata": {
        "id": "rMMs1wTNL3HY",
        "colab": {
          "base_uri": "https://localhost:8080/"
        },
        "outputId": "22e15a93-ef0b-4b49-abd3-7f4c799f3741"
      },
      "source": [
        "countries_list = vaccine_data_grouped[vaccine_data_grouped.date>=55].country\r\n",
        "print(countries_list)"
      ],
      "execution_count": 46,
      "outputs": [
        {
          "output_type": "stream",
          "text": [
            "0               Wales\n",
            "1      United Kingdom\n",
            "2            Scotland\n",
            "3             England\n",
            "4    Northern Ireland\n",
            "5              Russia\n",
            "6               China\n",
            "7              Israel\n",
            "Name: country, dtype: object\n"
          ],
          "name": "stdout"
        }
      ]
    },
    {
      "cell_type": "markdown",
      "metadata": {
        "id": "DlmMRU6w2oOY"
      },
      "source": [
        "current idea clean data, statistics in each country, compare progress"
      ]
    }
  ]
}